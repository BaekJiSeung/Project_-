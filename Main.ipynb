{
 "cells": [
  {
   "cell_type": "code",
   "execution_count": 1,
   "id": "2882b915-5dd6-47ac-8e13-ef4f45edc58c",
   "metadata": {},
   "outputs": [],
   "source": [
    "import os\n",
    "os.environ[\"KMP_DUPLICATE_LIB_OK\"] = \"TRUE\""
   ]
  },
  {
   "cell_type": "code",
   "execution_count": 2,
   "id": "105114aa-9afc-40d5-8346-c3ed48412485",
   "metadata": {},
   "outputs": [],
   "source": [
    "import torch\n",
    "import torch.nn as nn\n",
    "import numpy as np\n",
    "import matplotlib.pyplot as plt\n",
    "from scipy.integrate import solve_ivp"
   ]
  },
  {
   "cell_type": "code",
   "execution_count": null,
   "id": "8ac6f3c0-e176-43b5-99be-1557ae5c2b2c",
   "metadata": {},
   "outputs": [],
   "source": [
    "import numpy as np\n",
    "import matplotlib.pyplot as plt\n",
    "from metropolis_hastings import MetropolisHastings\n",
    "from utils import HPD, ESS"
   ]
  },
  {
   "cell_type": "markdown",
   "id": "8eb1a929-13ab-4cae-9103-c1e6ebbb0446",
   "metadata": {},
   "source": [
    "<span style=\"font-size:250%\">UK</span>  "
   ]
  },
  {
   "cell_type": "code",
   "execution_count": 5,
   "id": "362b769f-b9e5-4f6b-96bf-12a31054c2cf",
   "metadata": {},
   "outputs": [],
   "source": [
    "\n",
    "# 데이터 읽기\n",
    "UK = np.loadtxt('seroprevalence_uk.csv', delimiter=',')\n",
    "age, I, T = UK[:, 0], UK[:, 1], UK[:, 2]\n",
    "\n",
    "# 메트로폴리스-헤이스팅스 샘플링\n",
    "mh = MetropolisHastings(age, I, T, n_samples=11000, sigma=0.01)\n",
    "lambda_samples, acceptance_prob = mh.run()\n",
    "\n",
    "# Burn-in 제거\n",
    "lambda_samples = lambda_samples[1000:]"
   ]
  },
  {
   "cell_type": "code",
   "execution_count": 6,
   "id": "ba1cad16-f071-4220-b507-300b86a5589e",
   "metadata": {},
   "outputs": [
    {
     "name": "stdout",
     "output_type": "stream",
     "text": [
      "Effective Sample Size (UK): 1604.8847202225734\n"
     ]
    }
   ],
   "source": [
    "\n",
    "# 효과적인 샘플 크기 (ESS)\n",
    "ess = ESS(lambda_samples)\n",
    "print(f\"Effective Sample Size (UK): {ess}\")\n"
   ]
  },
  {
   "cell_type": "code",
   "execution_count": 7,
   "id": "a1b565c1-d532-4c9d-b65d-9ef8a655097f",
   "metadata": {},
   "outputs": [
    {
     "data": {
      "image/png": "[encoded data removed]",
      "text/plain": [
       "<Figure size 640x480 with 1 Axes>"
      ]
     },
     "metadata": {},
     "output_type": "display_data"
    }
   ],
   "source": [
    "\n",
    "# posterior 분포 히스토그램\n",
    "plt.hist(lambda_samples, bins=50, density=True, alpha=0.7)\n",
    "plt.title(\"Posterior Distribution of Lambda (UK)\")\n",
    "plt.xlabel(\"Lambda\")\n",
    "plt.ylabel(\"Density\")\n",
    "plt.show()"
   ]
  },
  {
   "cell_type": "code",
   "execution_count": 15,
   "id": "db844b05-5dce-4b8e-93b0-5265e67281c5",
   "metadata": {},
   "outputs": [
    {
     "name": "stdout",
     "output_type": "stream",
     "text": [
      "MAP Estimate (UK): 0.11586134457047445\n"
     ]
    }
   ],
   "source": [
    "\n",
    "# 최대 posterior 확률 추정 (MAP)\n",
    "lambda_map = np.mean(lambda_samples)\n",
    "print(f\"MAP Estimate (UK): {lambda_map}\")"
   ]
  },
  {
   "cell_type": "code",
   "execution_count": 16,
   "id": "7ace3ede-8766-45ac-b9cc-39b74f6c5d3b",
   "metadata": {},
   "outputs": [
    {
     "name": "stdout",
     "output_type": "stream",
     "text": [
      "95% Credible Interval (UK): [0.11073286121233346, 0.12088092243046257]\n"
     ]
    }
   ],
   "source": [
    "\n",
    "\n",
    "# 신뢰 구간 (HPD) CI\n",
    "lower, upper = HPD(lambda_samples, 0.95)\n",
    "print(f\"95% Credible Interval (UK): [{lower}, {upper}]\")\n"
   ]
  },
  {
   "cell_type": "code",
   "execution_count": 17,
   "id": "966beb52-cdfb-486e-9920-6682e5dcd796",
   "metadata": {},
   "outputs": [
    {
     "name": "stdout",
     "output_type": "stream",
     "text": [
      "R0 Range (UK): [7.64397167 8.25285535]\n",
      "Herd Immunity Threshold (UK): [0.86917796 0.87882982]\n"
     ]
    }
   ],
   "source": [
    "\n",
    "\n",
    "# R0 및 집단 면역 계산\n",
    "L = 60\n",
    "R0 = 1 + L * np.array([lower, upper])\n",
    "Herd_immunity = 1 - 1 / R0\n",
    "print(f\"R0 Range (UK): {R0}\")\n",
    "print(f\"Herd Immunity Threshold (UK): {Herd_immunity}\")\n"
   ]
  },
  {
   "cell_type": "markdown",
   "id": "ef75b35d-6eed-4ed1-8b79-f88ec75fa38c",
   "metadata": {},
   "source": [
    "<span style=\"font-size:250%\">China</span>  "
   ]
  },
  {
   "cell_type": "code",
   "execution_count": 18,
   "id": "6f1c69f8-238a-45d0-b7d4-db4dfe249b07",
   "metadata": {},
   "outputs": [],
   "source": [
    "\n",
    "CH = np.loadtxt('seroprevalence_china.csv', delimiter=',')\n",
    "ageC, IC, TC = CH[:, 0], CH[:, 1], CH[:, 2]\n",
    "\n",
    "mhC = MetropolisHastings(ageC, IC, TC, n_samples=11000, sigma=0.01)\n",
    "lambda_samplesC, acceptance_probC = mhC.run()\n",
    "\n",
    "# Burn-in 제거\n",
    "lambda_samplesC = lambda_samplesC[1000:]\n"
   ]
  },
  {
   "cell_type": "code",
   "execution_count": 19,
   "id": "06f57e1e-f54d-42ee-b16c-5eaee2b69066",
   "metadata": {},
   "outputs": [
    {
     "name": "stdout",
     "output_type": "stream",
     "text": [
      "Effective Sample Size (China): 9294.636545571264\n"
     ]
    }
   ],
   "source": [
    "\n",
    "# 효과적인 샘플 크기 (ESS)\n",
    "essC = ESS(lambda_samplesC)\n",
    "print(f\"Effective Sample Size (China): {essC}\")"
   ]
  },
  {
   "cell_type": "code",
   "execution_count": 20,
   "id": "27591371-b130-439c-afab-9a7ec3ead816",
   "metadata": {},
   "outputs": [
    {
     "data": {
      "image/png": "[encoded data removed]",
      "text/plain": [
       "<Figure size 640x480 with 1 Axes>"
      ]
     },
     "metadata": {},
     "output_type": "display_data"
    }
   ],
   "source": [
    "\n",
    "\n",
    "# posterior 분포 히스토그램\n",
    "plt.hist(lambda_samplesC, bins=50, density=True, alpha=0.7)\n",
    "plt.title(\"Posterior Distribution of Lambda (China)\")\n",
    "plt.xlabel(\"Lambda\")\n",
    "plt.ylabel(\"Density\")\n",
    "plt.show()"
   ]
  },
  {
   "cell_type": "code",
   "execution_count": 21,
   "id": "ad6001df-d634-4a59-a5d0-3d685d843696",
   "metadata": {},
   "outputs": [
    {
     "name": "stdout",
     "output_type": "stream",
     "text": [
      "MAP Estimate (China): 0.20313515344111527\n"
     ]
    }
   ],
   "source": [
    "\n",
    "\n",
    "# 최대 posterior확률 추정 (MAP)\n",
    "lambda_mapC = np.mean(lambda_samplesC)\n",
    "print(f\"MAP Estimate (China): {lambda_mapC}\")"
   ]
  },
  {
   "cell_type": "code",
   "execution_count": 22,
   "id": "36388bd6-0ee3-4de0-96b3-ca4397cfc2c3",
   "metadata": {},
   "outputs": [
    {
     "name": "stdout",
     "output_type": "stream",
     "text": [
      "95% Credible Interval (China): [0.198292991562994, 0.207588710391425]\n"
     ]
    }
   ],
   "source": [
    "\n",
    "\n",
    "# 신뢰 구간 (HPD) CI\n",
    "lowerC, upperC = HPD(lambda_samplesC, 0.95)\n",
    "print(f\"95% Credible Interval (China): [{lowerC}, {upperC}]\")\n"
   ]
  },
  {
   "cell_type": "code",
   "execution_count": 23,
   "id": "0058d819-85cb-427c-9064-65399cc905c7",
   "metadata": {},
   "outputs": [
    {
     "name": "stdout",
     "output_type": "stream",
     "text": [
      "R0 Range (China): [12.89757949 13.45532262]\n",
      "Herd Immunity Threshold (China): [0.92246607 0.92567997]\n"
     ]
    }
   ],
   "source": [
    "\n",
    "LC = 60\n",
    "R0C = 1 + LC * np.array([lowerC, upperC])\n",
    "Herd_immunityC = 1 - 1 / R0C\n",
    "print(f\"R0 Range (China): {R0C}\")\n",
    "print(f\"Herd Immunity Threshold (China): {Herd_immunityC}\")\n"
   ]
  },
  {
   "cell_type": "code",
   "execution_count": null,
   "id": "8be08a10-465f-41d3-9b13-305b9a4750e7",
   "metadata": {},
   "outputs": [],
   "source": []
  },
  {
   "cell_type": "code",
   "execution_count": null,
   "id": "a7632fd6-c05f-4795-92b8-fd0411f70d75",
   "metadata": {},
   "outputs": [],
   "source": []
  },
  {
   "cell_type": "code",
   "execution_count": null,
   "id": "816a26e3-ef67-4bf8-8242-6d45d8f5e5eb",
   "metadata": {},
   "outputs": [],
   "source": []
  },
  {
   "cell_type": "code",
   "execution_count": null,
   "id": "41e2b2c9-6b61-42b8-9008-13b0280497ee",
   "metadata": {},
   "outputs": [],
   "source": []
  },
  {
   "cell_type": "code",
   "execution_count": null,
   "id": "087f214f-5b34-41b0-a8b9-5a73e51a2917",
   "metadata": {},
   "outputs": [],
   "source": []
  },
  {
   "cell_type": "code",
   "execution_count": null,
   "id": "6cb88d33-5a03-40f3-9211-5eea17333082",
   "metadata": {},
   "outputs": [],
   "source": []
  }
 ],
 "metadata": {
  "kernelspec": {
   "display_name": "Python 3 (ipykernel)",
   "language": "python",
   "name": "python3"
  },
  "language_info": {
   "codemirror_mode": {
    "name": "ipython",
    "version": 3
   },
   "file_extension": ".py",
   "mimetype": "text/x-python",
   "name": "python",
   "nbconvert_exporter": "python",
   "pygments_lexer": "ipython3",
   "version": "3.11.5"
  }
 },
 "nbformat": 4,
 "nbformat_minor": 5
}
